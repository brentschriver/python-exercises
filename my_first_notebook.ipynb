{
 "cells": [
  {
   "cell_type": "code",
   "execution_count": 1,
   "id": "12541cd1",
   "metadata": {},
   "outputs": [
    {
     "name": "stdout",
     "output_type": "stream",
     "text": [
      "Yo, my name is B-Alpha\n"
     ]
    }
   ],
   "source": [
    "print('Yo, my name is B-Alpha')\n"
   ]
  },
  {
   "cell_type": "code",
   "execution_count": 5,
   "id": "473a1390",
   "metadata": {},
   "outputs": [
    {
     "name": "stdout",
     "output_type": "stream",
     "text": [
      "Three plus 1 is: 4\n",
      "Did you know that?\n"
     ]
    }
   ],
   "source": [
    "print('Three plus 1 is:',3+1)\n",
    "print('Did you know that?')"
   ]
  },
  {
   "cell_type": "code",
   "execution_count": 8,
   "id": "aade8c37",
   "metadata": {},
   "outputs": [
    {
     "name": "stdout",
     "output_type": "stream",
     "text": [
      "What should we do today? Everything\n"
     ]
    }
   ],
   "source": [
    "what_to_do = input('What should we do today? ')"
   ]
  },
  {
   "cell_type": "code",
   "execution_count": 6,
   "id": "1a52784c",
   "metadata": {},
   "outputs": [],
   "source": [
    "numbers = {'numbers': [1,2,3,4]}\n"
   ]
  },
  {
   "cell_type": "code",
   "execution_count": 7,
   "id": "9b8272bd",
   "metadata": {},
   "outputs": [
    {
     "name": "stdout",
     "output_type": "stream",
     "text": [
      "{'numbers': [1, 2, 3, 4]}\n"
     ]
    }
   ],
   "source": [
    "print(numbers)"
   ]
  },
  {
   "cell_type": "code",
   "execution_count": 8,
   "id": "902c63c4",
   "metadata": {},
   "outputs": [
    {
     "data": {
      "text/plain": [
       "True"
      ]
     },
     "execution_count": 8,
     "metadata": {},
     "output_type": "execute_result"
    }
   ],
   "source": [
    "True and True or False"
   ]
  },
  {
   "cell_type": "code",
   "execution_count": 10,
   "id": "a76bef43",
   "metadata": {},
   "outputs": [
    {
     "data": {
      "text/plain": [
       "True"
      ]
     },
     "execution_count": 10,
     "metadata": {},
     "output_type": "execute_result"
    }
   ],
   "source": [
    "False or True and True or False"
   ]
  },
  {
   "cell_type": "code",
   "execution_count": 13,
   "id": "507eaf2c",
   "metadata": {},
   "outputs": [
    {
     "ename": "SyntaxError",
     "evalue": "invalid syntax (<ipython-input-13-3d354a67df71>, line 1)",
     "output_type": "error",
     "traceback": [
      "\u001b[0;36m  File \u001b[0;32m\"<ipython-input-13-3d354a67df71>\"\u001b[0;36m, line \u001b[0;32m1\u001b[0m\n\u001b[0;31m    my_first_dictionary = {['name' : 'Adam'], ['favorite_colors': 'red', 'blue', 'green'], 'pets': {'dog': 'Meli'}}\u001b[0m\n\u001b[0m                                   ^\u001b[0m\n\u001b[0;31mSyntaxError\u001b[0m\u001b[0;31m:\u001b[0m invalid syntax\n"
     ]
    }
   ],
   "source": [
    "my_first_dictionary = {['name' : 'Adam'], ['favorite_colors': 'red', 'blue', 'green'], 'pets': {'dog': 'Meli'}}"
   ]
  },
  {
   "cell_type": "code",
   "execution_count": null,
   "id": "b1a7d380",
   "metadata": {},
   "outputs": [],
   "source": []
  }
 ],
 "metadata": {
  "kernelspec": {
   "display_name": "Python 3",
   "language": "python",
   "name": "python3"
  },
  "language_info": {
   "codemirror_mode": {
    "name": "ipython",
    "version": 3
   },
   "file_extension": ".py",
   "mimetype": "text/x-python",
   "name": "python",
   "nbconvert_exporter": "python",
   "pygments_lexer": "ipython3",
   "version": "3.8.8"
  }
 },
 "nbformat": 4,
 "nbformat_minor": 5
}
