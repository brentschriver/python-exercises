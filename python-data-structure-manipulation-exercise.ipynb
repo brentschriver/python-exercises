{
 "cells": [
  {
   "cell_type": "code",
   "execution_count": 18,
   "id": "7423b7d5",
   "metadata": {},
   "outputs": [],
   "source": [
    "import pandas as pd"
   ]
  },
  {
   "cell_type": "code",
   "execution_count": 1,
   "id": "461d3d4f",
   "metadata": {},
   "outputs": [],
   "source": [
    "# This cell creates a list of dictionaries and stores it into a variable.\n",
    "students = [\n",
    "    {\n",
    "        \"id\": \"100001\",\n",
    "        \"student\": \"Ada Lovelace\",\n",
    "        \"coffee_preference\": \"light\",\n",
    "        \"course\": \"web development\",\n",
    "        \"grades\": [70, 91, 82, 71],\n",
    "        \"pets\": [{\"species\": \"horse\", \"age\": 8}],\n",
    "    },\n",
    "    {\n",
    "        \"id\": \"100002\",\n",
    "        \"student\": \"Thomas Bayes\",\n",
    "        \"coffee_preference\": \"medium\",\n",
    "        \"course\": \"data science\",\n",
    "        \"grades\": [75, 73, 86, 100],\n",
    "        \"pets\": [],\n",
    "    },\n",
    "    {\n",
    "        \"id\": \"100003\",\n",
    "        \"student\": \"Marie Curie\",\n",
    "        \"coffee_preference\": \"light\",\n",
    "        \"course\": \"web development\",\n",
    "        \"grades\": [70, 89, 69, 65],\n",
    "        \"pets\": [{\"species\": \"cat\", \"age\": 0}],\n",
    "    },\n",
    "    {\n",
    "        \"id\": \"100004\",\n",
    "        \"student\": \"Grace Hopper\",\n",
    "        \"coffee_preference\": \"dark\",\n",
    "        \"course\": \"data science\",\n",
    "        \"grades\": [73, 66, 83, 92],\n",
    "        \"pets\": [{\"species\": \"dog\", \"age\": 4}, {\"species\": \"cat\", \"age\": 4}],\n",
    "    },\n",
    "    {\n",
    "        \"id\": \"100005\",\n",
    "        \"student\": \"Alan Turing\",\n",
    "        \"coffee_preference\": \"dark\",\n",
    "        \"course\": \"web development\",\n",
    "        \"grades\": [78, 98, 85, 65],\n",
    "        \"pets\": [\n",
    "            {\"species\": \"horse\", \"age\": 6},\n",
    "            {\"species\": \"horse\", \"age\": 7},\n",
    "            {\"species\": \"dog\", \"age\": 5},\n",
    "        ],\n",
    "    },\n",
    "    {\n",
    "        \"id\": \"100006\",\n",
    "        \"student\": \"Rosalind Franklin\",\n",
    "        \"coffee_preference\": \"dark\",\n",
    "        \"course\": \"data science\",\n",
    "        \"grades\": [76, 70, 96, 81],\n",
    "        \"pets\": [],\n",
    "    },\n",
    "    {\n",
    "        \"id\": \"100007\",\n",
    "        \"student\": \"Elizabeth Blackwell\",\n",
    "        \"coffee_preference\": \"dark\",\n",
    "        \"course\": \"web development\",\n",
    "        \"grades\": [69, 94, 89, 86],\n",
    "        \"pets\": [{\"species\": \"cat\", \"age\": 10}],\n",
    "    },\n",
    "    {\n",
    "        \"id\": \"100008\",\n",
    "        \"student\": \"Rene Descartes\",\n",
    "        \"coffee_preference\": \"medium\",\n",
    "        \"course\": \"data science\",\n",
    "        \"grades\": [87, 79, 90, 99],\n",
    "        \"pets\": [{\"species\": \"cat\", \"age\": 10}, {\"species\": \"cat\", \"age\": 8}],\n",
    "    },\n",
    "    {\n",
    "        \"id\": \"100009\",\n",
    "        \"student\": \"Ahmed Zewail\",\n",
    "        \"coffee_preference\": \"medium\",\n",
    "        \"course\": \"data science\",\n",
    "        \"grades\": [74, 99, 93, 89],\n",
    "        \"pets\": [{\"species\": \"cat\", \"age\": 0}, {\"species\": \"cat\", \"age\": 0}],\n",
    "    },\n",
    "    {\n",
    "        \"id\": \"100010\",\n",
    "        \"student\": \"Chien-Shiung Wu\",\n",
    "        \"coffee_preference\": \"medium\",\n",
    "        \"course\": \"web development\",\n",
    "        \"grades\": [82, 92, 91, 65],\n",
    "        \"pets\": [{\"species\": \"cat\", \"age\": 8}],\n",
    "    },\n",
    "    {\n",
    "        \"id\": \"100011\",\n",
    "        \"student\": \"William Sanford Nye\",\n",
    "        \"coffee_preference\": \"dark\",\n",
    "        \"course\": \"data science\",\n",
    "        \"grades\": [70, 92, 65, 99],\n",
    "        \"pets\": [{\"species\": \"cat\", \"age\": 8}, {\"species\": \"cat\", \"age\": 5}],\n",
    "    },\n",
    "    {\n",
    "        \"id\": \"100012\",\n",
    "        \"student\": \"Carl Sagan\",\n",
    "        \"coffee_preference\": \"medium\",\n",
    "        \"course\": \"data science\",\n",
    "        \"grades\": [100, 86, 91, 87],\n",
    "        \"pets\": [{\"species\": \"cat\", \"age\": 10}],\n",
    "    },\n",
    "    {\n",
    "        \"id\": \"100013\",\n",
    "        \"student\": \"Jane Goodall\",\n",
    "        \"coffee_preference\": \"light\",\n",
    "        \"course\": \"web development\",\n",
    "        \"grades\": [80, 70, 68, 98],\n",
    "        \"pets\": [{\"species\": \"horse\", \"age\": 4}],\n",
    "    },\n",
    "    {\n",
    "        \"id\": \"100014\",\n",
    "        \"student\": \"Richard Feynman\",\n",
    "        \"coffee_preference\": \"medium\",\n",
    "        \"course\": \"web development\",\n",
    "        \"grades\": [73, 99, 86, 98],\n",
    "        \"pets\": [{\"species\": \"dog\", \"age\": 6}],\n",
    "    },\n",
    "]"
   ]
  },
  {
   "cell_type": "markdown",
   "id": "5272b19b",
   "metadata": {},
   "source": [
    "How many students are there?"
   ]
  },
  {
   "cell_type": "code",
   "execution_count": 2,
   "id": "4259f5b2",
   "metadata": {},
   "outputs": [
    {
     "data": {
      "text/plain": [
       "14"
      ]
     },
     "execution_count": 2,
     "metadata": {},
     "output_type": "execute_result"
    }
   ],
   "source": [
    "# Determine how many dictionary entries are in the list.\n",
    "len(students)"
   ]
  },
  {
   "cell_type": "markdown",
   "id": "9a1cd937",
   "metadata": {},
   "source": [
    "How many students prefer light coffee? For each type of coffee roast?"
   ]
  },
  {
   "cell_type": "code",
   "execution_count": 3,
   "id": "fbe0f90c",
   "metadata": {},
   "outputs": [
    {
     "name": "stdout",
     "output_type": "stream",
     "text": [
      "Light coffee: 3\n",
      "Medium coffee: 6\n",
      "Dark coffee: 5\n"
     ]
    }
   ],
   "source": [
    "# Create three holding variables\n",
    "light_count = 0\n",
    "medium_count = 0\n",
    "dark_count = 0\n",
    "\n",
    "# This will access the dictionary\n",
    "for stuff in students:\n",
    "    # This line will check the value of the key 'coffee_preference'. If True add 1 to light_count\n",
    "    if stuff['coffee_preference'] == 'light':\n",
    "        light_count += 1\n",
    "    # If this line evaluates to True then add 1 to medium_count\n",
    "    elif stuff['coffee_preference'] == 'medium':\n",
    "        medium_count += 1\n",
    "    # If first two instances evaluates to False then add 1 to dark_count\n",
    "    else:\n",
    "        dark_count += 1\n",
    "print(f'Light coffee: {light_count}')\n",
    "print(f'Medium coffee: {medium_count}')\n",
    "print(f'Dark coffee: {dark_count}')"
   ]
  },
  {
   "cell_type": "markdown",
   "id": "69133159",
   "metadata": {},
   "source": [
    "How many types of each pet are there?"
   ]
  },
  {
   "cell_type": "code",
   "execution_count": null,
   "id": "0ec57709",
   "metadata": {},
   "outputs": [],
   "source": [
    "for dictionary in students:\n",
    "    print(dictionary)"
   ]
  },
  {
   "cell_type": "code",
   "execution_count": null,
   "id": "60c49c69",
   "metadata": {},
   "outputs": [],
   "source": [
    "pet_species = dictionary['pets']"
   ]
  },
  {
   "cell_type": "code",
   "execution_count": null,
   "id": "ec354b11",
   "metadata": {},
   "outputs": [],
   "source": [
    "pet_species"
   ]
  },
  {
   "cell_type": "code",
   "execution_count": null,
   "id": "c531be07",
   "metadata": {},
   "outputs": [],
   "source": [
    "for species in pet_species:\n",
    "    print(species)"
   ]
  },
  {
   "cell_type": "code",
   "execution_count": null,
   "id": "e19ccaea",
   "metadata": {},
   "outputs": [],
   "source": [
    "pet_type = species['species']"
   ]
  },
  {
   "cell_type": "code",
   "execution_count": 8,
   "id": "90d4b32b",
   "metadata": {},
   "outputs": [],
   "source": [
    "def get_pet_types():\n",
    "    for dictionary in students:\n",
    "        pet_species = dictionary['pets']\n",
    "        for species in pet_species:\n",
    "            pet_type = species['species']\n",
    "            print(pet_type)"
   ]
  },
  {
   "cell_type": "code",
   "execution_count": 9,
   "id": "47a6696e",
   "metadata": {},
   "outputs": [
    {
     "name": "stdout",
     "output_type": "stream",
     "text": [
      "horse\n",
      "cat\n",
      "dog\n",
      "cat\n",
      "horse\n",
      "horse\n",
      "dog\n",
      "cat\n",
      "cat\n",
      "cat\n",
      "cat\n",
      "cat\n",
      "cat\n",
      "cat\n",
      "cat\n",
      "cat\n",
      "horse\n",
      "dog\n"
     ]
    }
   ],
   "source": [
    "get_pet_types()"
   ]
  },
  {
   "cell_type": "markdown",
   "id": "df5d9133",
   "metadata": {},
   "source": [
    "How many grades does each student have? Do they all have the same number of grades?"
   ]
  },
  {
   "cell_type": "code",
   "execution_count": 14,
   "id": "54d6d5da",
   "metadata": {},
   "outputs": [],
   "source": [
    "def get_grades():\n",
    "    for dictionary in students:\n",
    "        grades = dictionary['grades']\n",
    "        print(grades)"
   ]
  },
  {
   "cell_type": "code",
   "execution_count": 11,
   "id": "a4109c42",
   "metadata": {},
   "outputs": [
    {
     "name": "stdout",
     "output_type": "stream",
     "text": [
      "[70, 91, 82, 71]\n",
      "[75, 73, 86, 100]\n",
      "[70, 89, 69, 65]\n",
      "[73, 66, 83, 92]\n",
      "[78, 98, 85, 65]\n",
      "[76, 70, 96, 81]\n",
      "[69, 94, 89, 86]\n",
      "[87, 79, 90, 99]\n",
      "[74, 99, 93, 89]\n",
      "[82, 92, 91, 65]\n",
      "[70, 92, 65, 99]\n",
      "[100, 86, 91, 87]\n",
      "[80, 70, 68, 98]\n",
      "[73, 99, 86, 98]\n"
     ]
    }
   ],
   "source": [
    "get_grades()"
   ]
  },
  {
   "cell_type": "markdown",
   "id": "44f7756f",
   "metadata": {},
   "source": [
    "What is each student's grade average?"
   ]
  },
  {
   "cell_type": "code",
   "execution_count": 23,
   "id": "d526efb2",
   "metadata": {},
   "outputs": [],
   "source": [
    "def get_grades_avg():\n",
    "    for dictionary in students:\n",
    "        grades = pd.Series(dictionary['grades'])\n",
    "        print(grades.mean())"
   ]
  },
  {
   "cell_type": "code",
   "execution_count": 24,
   "id": "c326b453",
   "metadata": {},
   "outputs": [
    {
     "name": "stdout",
     "output_type": "stream",
     "text": [
      "78.5\n",
      "83.5\n",
      "73.25\n",
      "78.5\n",
      "81.5\n",
      "80.75\n",
      "84.5\n",
      "88.75\n",
      "88.75\n",
      "82.5\n",
      "81.5\n",
      "91.0\n",
      "79.0\n",
      "89.0\n"
     ]
    }
   ],
   "source": [
    "get_grades_avg()"
   ]
  },
  {
   "cell_type": "markdown",
   "id": "eda8e853",
   "metadata": {},
   "source": [
    "How many pets does each student have?"
   ]
  },
  {
   "cell_type": "code",
   "execution_count": 25,
   "id": "c829f44f",
   "metadata": {},
   "outputs": [],
   "source": [
    "def how_many_pets():\n",
    "    for dictionary in students:\n",
    "        print(len(dictionary['pets']))"
   ]
  },
  {
   "cell_type": "code",
   "execution_count": 26,
   "id": "f656d96f",
   "metadata": {},
   "outputs": [
    {
     "name": "stdout",
     "output_type": "stream",
     "text": [
      "1\n",
      "0\n",
      "1\n",
      "2\n",
      "3\n",
      "0\n",
      "1\n",
      "2\n",
      "2\n",
      "1\n",
      "2\n",
      "1\n",
      "1\n",
      "1\n"
     ]
    }
   ],
   "source": [
    "how_many_pets()"
   ]
  },
  {
   "cell_type": "markdown",
   "id": "d21c6a6f",
   "metadata": {},
   "source": [
    "How many students are in web development? data science?"
   ]
  },
  {
   "cell_type": "code",
   "execution_count": 28,
   "id": "debb33a4",
   "metadata": {},
   "outputs": [],
   "source": [
    "web_dev_count = 0\n",
    "ds_count = 0\n",
    "for student in students:\n",
    "    if student['course'] == 'web development':\n",
    "        web_dev_count += 1\n",
    "    else:\n",
    "        ds_count += 1      "
   ]
  },
  {
   "cell_type": "code",
   "execution_count": 29,
   "id": "e4dce7aa",
   "metadata": {},
   "outputs": [
    {
     "data": {
      "text/plain": [
       "(7, 7)"
      ]
     },
     "execution_count": 29,
     "metadata": {},
     "output_type": "execute_result"
    }
   ],
   "source": [
    "web_dev_count, ds_count"
   ]
  },
  {
   "cell_type": "markdown",
   "id": "48ccb719",
   "metadata": {},
   "source": [
    "What is the average number of pets for students in web development?"
   ]
  },
  {
   "cell_type": "code",
   "execution_count": 36,
   "id": "c016e735",
   "metadata": {},
   "outputs": [],
   "source": [
    "num_web_dev_student = 0\n",
    "num_ds_student = 0\n",
    "num_web_dev_pet = 0\n",
    "num_ds_pet = 0\n",
    "ds_pet_age_sum = 0\n",
    "web_dev_pet_age_sum = 0\n",
    "for student in students:\n",
    "    if student['course'] == 'web development':\n",
    "        num_web_dev_student += 1\n",
    "        num_web_dev_pet += len(student['pets'])\n",
    "        for pet in student['pets']:\n",
    "            web_dev_pet_age_sum += pet['age']\n",
    "    else:\n",
    "        num_ds_student +=1\n",
    "        num_ds_pet += len(student['pets'])\n",
    "        for pet in student['pets']:\n",
    "            ds_pet_age_sum += pet['age']\n",
    "            \n",
    "avg_number_of_pets_web_dev = num_web_dev_pet/num_web_dev_student\n",
    "avg_number_of_pets_ds = num_ds_pet/num_ds_student"
   ]
  },
  {
   "cell_type": "code",
   "execution_count": 31,
   "id": "4bb25435",
   "metadata": {},
   "outputs": [
    {
     "data": {
      "text/plain": [
       "1.2857142857142858"
      ]
     },
     "execution_count": 31,
     "metadata": {},
     "output_type": "execute_result"
    }
   ],
   "source": [
    "avg_number_of_pets_web_dev"
   ]
  },
  {
   "cell_type": "markdown",
   "id": "c6ebd737",
   "metadata": {},
   "source": [
    "What is the average pet age for students in data science?"
   ]
  },
  {
   "cell_type": "code",
   "execution_count": 35,
   "id": "d1a7100f",
   "metadata": {},
   "outputs": [
    {
     "name": "stdout",
     "output_type": "stream",
     "text": [
      "8\n",
      "0\n",
      "4\n",
      "4\n",
      "6\n",
      "7\n",
      "5\n",
      "10\n",
      "10\n",
      "8\n",
      "0\n",
      "0\n",
      "8\n",
      "8\n",
      "5\n",
      "10\n",
      "4\n",
      "6\n"
     ]
    }
   ],
   "source": [
    "for student in students:\n",
    "    for pet in student['pets']:\n",
    "        print(pet['age'])"
   ]
  },
  {
   "cell_type": "code",
   "execution_count": 38,
   "id": "082ba2e5",
   "metadata": {},
   "outputs": [
    {
     "data": {
      "text/plain": [
       "5.444444444444445"
      ]
     },
     "execution_count": 38,
     "metadata": {},
     "output_type": "execute_result"
    }
   ],
   "source": [
    "ds_pet_age_sum/num_ds_pet"
   ]
  },
  {
   "cell_type": "markdown",
   "id": "ddd6d4fc",
   "metadata": {},
   "source": [
    "What is most frequent coffee preference for data science students?"
   ]
  },
  {
   "cell_type": "code",
   "execution_count": 40,
   "id": "d40ff8e4",
   "metadata": {},
   "outputs": [
    {
     "name": "stdout",
     "output_type": "stream",
     "text": [
      "medium\n",
      "dark\n",
      "dark\n",
      "medium\n",
      "medium\n",
      "dark\n",
      "medium\n"
     ]
    }
   ],
   "source": [
    "for student in students:\n",
    "    if student['course'] == 'data science':\n",
    "        print(student['coffee_preference'])"
   ]
  },
  {
   "cell_type": "markdown",
   "id": "fa70cfc5",
   "metadata": {},
   "source": [
    "What is the least frequent coffee preference for web development students?"
   ]
  },
  {
   "cell_type": "code",
   "execution_count": 41,
   "id": "3f1aec3c",
   "metadata": {},
   "outputs": [
    {
     "name": "stdout",
     "output_type": "stream",
     "text": [
      "light\n",
      "light\n",
      "dark\n",
      "dark\n",
      "medium\n",
      "light\n",
      "medium\n"
     ]
    }
   ],
   "source": [
    "for student in students:\n",
    "    if student['course'] == 'web development':\n",
    "        print(student['coffee_preference'])"
   ]
  },
  {
   "cell_type": "markdown",
   "id": "74086f3d",
   "metadata": {},
   "source": [
    "What is the average grade for students with at least 2 pets?"
   ]
  },
  {
   "cell_type": "code",
   "execution_count": 50,
   "id": "1d6ffaf2",
   "metadata": {},
   "outputs": [
    {
     "name": "stdout",
     "output_type": "stream",
     "text": [
      "78.5\n",
      "80.0\n",
      "82.91666666666667\n",
      "84.375\n",
      "83.8\n"
     ]
    }
   ],
   "source": [
    "num_grades = 0\n",
    "grade_sum = 0\n",
    "avg_grade = 0\n",
    "\n",
    "for student in students:\n",
    "    if len(student['pets']) >= 2:\n",
    "        num_grades += len(student['grades'])\n",
    "        grade_sum += pd.Series(student['grades']).sum()\n",
    "        avg_grade = grade_sum/num_grades\n",
    "        print(avg_grade)\n",
    "\n"
   ]
  },
  {
   "cell_type": "markdown",
   "id": "486ce3c5",
   "metadata": {},
   "source": [
    "How many students have 3 pets?"
   ]
  },
  {
   "cell_type": "code",
   "execution_count": 53,
   "id": "cbf8fe97",
   "metadata": {},
   "outputs": [
    {
     "name": "stdout",
     "output_type": "stream",
     "text": [
      "Here's one!\n"
     ]
    }
   ],
   "source": [
    "for student in students:\n",
    "    if len(student['pets']) == 3:\n",
    "        print(\"Here's one!\")"
   ]
  },
  {
   "cell_type": "markdown",
   "id": "a5123e21",
   "metadata": {},
   "source": [
    "What is the average grade for students with 0 pets?"
   ]
  },
  {
   "cell_type": "code",
   "execution_count": 55,
   "id": "88349ccc",
   "metadata": {},
   "outputs": [
    {
     "name": "stdout",
     "output_type": "stream",
     "text": [
      "83.75\n",
      "83.32142857142857\n"
     ]
    }
   ],
   "source": [
    "for student in students:\n",
    "    if len(student['pets']) == 0:\n",
    "        num_grades += len(student['grades'])\n",
    "        grade_sum += pd.Series(student['grades']).sum()\n",
    "        avg_grade = grade_sum/num_grades\n",
    "        print(avg_grade)"
   ]
  },
  {
   "cell_type": "markdown",
   "id": "f91854c6",
   "metadata": {},
   "source": [
    "What is the average grade for web development students? data science students?"
   ]
  },
  {
   "cell_type": "code",
   "execution_count": 57,
   "id": "57aa156f",
   "metadata": {},
   "outputs": [
    {
     "name": "stdout",
     "output_type": "stream",
     "text": [
      "82.71875\n",
      "81.66666666666667\n",
      "81.65\n",
      "81.9090909090909\n",
      "81.95833333333333\n",
      "81.73076923076923\n",
      "82.25\n"
     ]
    }
   ],
   "source": [
    "for student in students:\n",
    "    if student['course'] == 'web development':\n",
    "        num_grades += len(student['grades'])\n",
    "        grade_sum += pd.Series(student['grades']).sum()\n",
    "        avg_grade = grade_sum/num_grades\n",
    "        print(avg_grade)"
   ]
  },
  {
   "cell_type": "code",
   "execution_count": 58,
   "id": "e96dc798",
   "metadata": {},
   "outputs": [
    {
     "name": "stdout",
     "output_type": "stream",
     "text": [
      "82.33333333333333\n",
      "82.09375\n",
      "82.01470588235294\n",
      "82.38888888888889\n",
      "82.72368421052632\n",
      "82.6625\n",
      "83.05952380952381\n"
     ]
    }
   ],
   "source": [
    "for student in students:\n",
    "    if student['course'] == 'data science':\n",
    "        num_grades += len(student['grades'])\n",
    "        grade_sum += pd.Series(student['grades']).sum()\n",
    "        avg_grade = grade_sum/num_grades\n",
    "        print(avg_grade)"
   ]
  },
  {
   "cell_type": "markdown",
   "id": "df6a5cbb",
   "metadata": {},
   "source": [
    "What is the average grade range (i.e. highest grade - lowest grade) for dark coffee drinkers?"
   ]
  },
  {
   "cell_type": "code",
   "execution_count": 68,
   "id": "10ec53ec",
   "metadata": {},
   "outputs": [
    {
     "name": "stdout",
     "output_type": "stream",
     "text": [
      "28.8\n"
     ]
    }
   ],
   "source": [
    "num_students = 0\n",
    "max_grade = 0\n",
    "min_grade = 0\n",
    "grade_range_running_total = 0\n",
    "for student in students:\n",
    "    if student['coffee_preference'] == \"dark\":\n",
    "        num_students += 1\n",
    "        max_grade = max(student['grades'])\n",
    "        min_grade = min(student['grades'])\n",
    "        grade_range_running_total += max_grade - min_grade\n",
    "\n",
    "print(grade_range_running_total/num_students)"
   ]
  },
  {
   "cell_type": "markdown",
   "id": "c69b4701",
   "metadata": {},
   "source": [
    "What is the average number of pets for medium coffee drinkers?"
   ]
  },
  {
   "cell_type": "code",
   "execution_count": 70,
   "id": "18fa14a5",
   "metadata": {},
   "outputs": [],
   "source": [
    "num_students = 0\n",
    "num_pets = 0\n",
    "\n",
    "for student in students:\n",
    "    if student['coffee_preference'] == 'medium':\n",
    "        num_students += 1\n",
    "        num_pets += len(student['pets'])"
   ]
  },
  {
   "cell_type": "code",
   "execution_count": 73,
   "id": "1ba080ca",
   "metadata": {},
   "outputs": [
    {
     "data": {
      "text/plain": [
       "1.1666666666666667"
      ]
     },
     "execution_count": 73,
     "metadata": {},
     "output_type": "execute_result"
    }
   ],
   "source": [
    "num_pets/num_students"
   ]
  },
  {
   "cell_type": "markdown",
   "id": "758c1353",
   "metadata": {},
   "source": [
    "What is the most common type of pet for web development students?"
   ]
  },
  {
   "cell_type": "code",
   "execution_count": 82,
   "id": "a45d05fa",
   "metadata": {},
   "outputs": [
    {
     "name": "stdout",
     "output_type": "stream",
     "text": [
      "horse\n",
      "cat\n",
      "horse\n",
      "horse\n",
      "dog\n",
      "cat\n",
      "cat\n",
      "horse\n",
      "dog\n"
     ]
    }
   ],
   "source": [
    "for student in students:\n",
    "    if student['course'] == 'web development':\n",
    "        for pet in student['pets']:\n",
    "            print(pet['species'])"
   ]
  },
  {
   "cell_type": "markdown",
   "id": "32469b41",
   "metadata": {},
   "source": [
    "What is the average name length?"
   ]
  },
  {
   "cell_type": "code",
   "execution_count": 89,
   "id": "6f1d7505",
   "metadata": {},
   "outputs": [
    {
     "data": {
      "text/plain": [
       "13.642857142857142"
      ]
     },
     "execution_count": 89,
     "metadata": {},
     "output_type": "execute_result"
    }
   ],
   "source": [
    "name_len_total = 0\n",
    "for student in students:\n",
    "    name_len_total += len(student['student'])\n",
    "\n",
    "name_len_total/14"
   ]
  },
  {
   "cell_type": "markdown",
   "id": "30ea00da",
   "metadata": {},
   "source": [
    "What is the highest pet age for light coffee drinkers?"
   ]
  },
  {
   "cell_type": "code",
   "execution_count": 94,
   "id": "86f806cb",
   "metadata": {},
   "outputs": [
    {
     "name": "stdout",
     "output_type": "stream",
     "text": [
      "8\n",
      "0\n",
      "4\n"
     ]
    }
   ],
   "source": [
    "for student in students:\n",
    "    if student['coffee_preference'] == 'light':\n",
    "        for pet in student['pets']:\n",
    "            print(pet['age'])"
   ]
  },
  {
   "cell_type": "code",
   "execution_count": null,
   "id": "2654972b",
   "metadata": {},
   "outputs": [],
   "source": []
  }
 ],
 "metadata": {
  "kernelspec": {
   "display_name": "Python 3 (ipykernel)",
   "language": "python",
   "name": "python3"
  },
  "language_info": {
   "codemirror_mode": {
    "name": "ipython",
    "version": 3
   },
   "file_extension": ".py",
   "mimetype": "text/x-python",
   "name": "python",
   "nbconvert_exporter": "python",
   "pygments_lexer": "ipython3",
   "version": "3.8.8"
  }
 },
 "nbformat": 4,
 "nbformat_minor": 5
}
